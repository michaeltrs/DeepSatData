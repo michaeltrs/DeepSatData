{
 "cells": [
  {
   "cell_type": "code",
   "execution_count": 1,
   "id": "declared-banana",
   "metadata": {},
   "outputs": [],
   "source": [
    "import pandas as pd\n",
    "from sentinelsat import SentinelAPI, geojson_to_wkt\n",
    "import shapely.wkt\n",
    "from shapely.geometry import Polygon\n",
    "if __name__ == \"__main__\" and __package__ is None:\n",
    "    from sys import path\n",
    "    from os.path import dirname as dir\n",
    "    path.append(dir(path[0]))\n",
    "    __package__ = \"examples\"\n",
    "from utils.geospatial_data_utils import GeoTransform, make_rect_poly"
   ]
  },
  {
   "cell_type": "markdown",
   "id": "urban-adapter",
   "metadata": {},
   "source": [
    "### User input"
   ]
  },
  {
   "cell_type": "code",
   "execution_count": 2,
   "id": "adequate-mandate",
   "metadata": {},
   "outputs": [],
   "source": [
    "NW = (9.5, 26.5)  # north-west coordinates of AOI box\n",
    "SE = (7, 28.5)  # south east coordinates of AOI box\n",
    "CRS = '4326'  # '2154'  # coordinate reference system for AOI"
   ]
  },
  {
   "cell_type": "code",
   "execution_count": 3,
   "id": "accredited-tutorial",
   "metadata": {
    "scrolled": true
   },
   "outputs": [
    {
     "name": "stderr",
     "output_type": "stream",
     "text": [
      "/home/michaeltrs/Programming/miniconda3/envs/satdata/lib/python3.8/site-packages/pyproj/crs/crs.py:53: FutureWarning: '+init=<authority>:<code>' syntax is deprecated. '<authority>:<code>' is the preferred initialization method. When making the change, be mindful of axis order changes: https://pyproj4.github.io/pyproj/stable/gotchas.html#axis-order-changes-in-proj-6\n",
      "  return _prepare_from_string(\" \".join(pjargs))\n",
      "/home/michaeltrs/Programming/miniconda3/envs/satdata/lib/python3.8/site-packages/pyproj/crs/crs.py:294: FutureWarning: '+init=<authority>:<code>' syntax is deprecated. '<authority>:<code>' is the preferred initialization method. When making the change, be mindful of axis order changes: https://pyproj4.github.io/pyproj/stable/gotchas.html#axis-order-changes-in-proj-6\n",
      "  projstring = _prepare_from_string(\" \".join((projstring, projkwargs)))\n",
      "/home/michaeltrs/Programming/miniconda3/envs/satdata/lib/python3.8/site-packages/pyproj/crs/crs.py:53: FutureWarning: '+init=<authority>:<code>' syntax is deprecated. '<authority>:<code>' is the preferred initialization method. When making the change, be mindful of axis order changes: https://pyproj4.github.io/pyproj/stable/gotchas.html#axis-order-changes-in-proj-6\n",
      "  return _prepare_from_string(\" \".join(pjargs))\n",
      "/home/michaeltrs/Programming/miniconda3/envs/satdata/lib/python3.8/site-packages/pyproj/crs/crs.py:294: FutureWarning: '+init=<authority>:<code>' syntax is deprecated. '<authority>:<code>' is the preferred initialization method. When making the change, be mindful of axis order changes: https://pyproj4.github.io/pyproj/stable/gotchas.html#axis-order-changes-in-proj-6\n",
      "  projstring = _prepare_from_string(\" \".join((projstring, projkwargs)))\n"
     ]
    }
   ],
   "source": [
    "transform = GeoTransform(CRS, '4326', loc2loc=False)"
   ]
  },
  {
   "cell_type": "markdown",
   "id": "rapid-rochester",
   "metadata": {},
   "source": [
    "### Make rectangular polygon for AOI extent"
   ]
  },
  {
   "cell_type": "code",
   "execution_count": 4,
   "id": "developed-volume",
   "metadata": {},
   "outputs": [
    {
     "name": "stdout",
     "output_type": "stream",
     "text": [
      "AOI area:  5.0\n"
     ]
    }
   ],
   "source": [
    "NW_glob = transform(NW[1], NW[0])\n",
    "SE_glob = transform(SE[1], SE[0])\n",
    "AOI = Polygon([[NW_glob[1], NW_glob[0]],\n",
    "               [NW_glob[1], SE_glob[0]],\n",
    "               [SE_glob[1], SE_glob[0]],\n",
    "               [SE_glob[1], NW_glob[0]],\n",
    "               [NW_glob[1], NW_glob[0]]])\n",
    "print('AOI area: ', AOI.area)"
   ]
  },
  {
   "cell_type": "markdown",
   "id": "searching-idaho",
   "metadata": {},
   "source": [
    "### Query for products"
   ]
  },
  {
   "cell_type": "code",
   "execution_count": 5,
   "id": "approved-anxiety",
   "metadata": {},
   "outputs": [
    {
     "name": "stdout",
     "output_type": "stream",
     "text": [
      "querying...\n"
     ]
    },
    {
     "name": "stderr",
     "output_type": "stream",
     "text": [
      "Querying products: 100%|██████████| 121/121 [00:02<00:00,  9.53 products/s]\n"
     ]
    },
    {
     "name": "stdout",
     "output_type": "stream",
     "text": [
      "found tiles overlapping with AOI: 35PPL, 35NPH, 35NPJ, 35PPK, 35PNK, 35NNH, 35NNJ, 35PNL, 35PML, 35PMK, 35NMJ, 35NMH\n",
      "finding overlap with AOI:\n",
      "----------------------------------------------\n",
      "tile id  | AOI/Tile overlap | Tile/AOI overlap\n",
      "----------------------------------------------\n",
      "35PPL   |      0.0391        |      0.2733\n",
      "35NPH   |      0.0281        |      0.1422\n",
      "35NPJ   |      0.1178        |      0.5962\n",
      "35PPK   |      0.1007        |      0.5554\n",
      "35PNK   |      0.0060        |      1.0000\n",
      "35NNH   |      0.0150        |      0.1894\n",
      "35NNJ   |      0.0403        |      1.0000\n",
      "35PNL   |      0.1084        |      0.5458\n",
      "35PML   |      0.0638        |      0.3213\n",
      "35PMK   |      0.1169        |      0.5900\n",
      "35NMJ   |      0.1169        |      0.5911\n",
      "35NMH   |      0.0280        |      0.1416\n"
     ]
    }
   ],
   "source": [
    "poly = make_rect_poly(NW_glob, SE_glob)\n",
    "footprint = geojson_to_wkt(poly)\n",
    "cred = pd.read_csv(\"pw.csv\", header=None)\n",
    "api = SentinelAPI(cred[0][0], cred[0][1], 'https://scihub.copernicus.eu/dhus')\n",
    "print(\"querying...\")\n",
    "products = api.query(footprint,\n",
    "                     platformname='Sentinel-2',\n",
    "                     cloudcoverpercentage=(0,100),\n",
    "                     area_relation='Intersects',\n",
    "                     date=('20200101', '20200201'),\n",
    "                     processinglevel='Level-1C')\n",
    "\n",
    "# find unique tiles\n",
    "tiles = {}\n",
    "tileids = []\n",
    "for prod in products:\n",
    "    if products[prod]['tileid'] not in tileids:\n",
    "        tileids.append(products[prod]['tileid'])\n",
    "        tiles[prod] = products[prod]\n",
    "    # print(products[prod].keys())\n",
    "    # break\n",
    "print(\"found tiles overlapping with AOI: %s\" % \", \".join(tileids))\n",
    "\n",
    "# find overlap with AOI for each tile\n",
    "print(\"finding overlap with AOI:\")\n",
    "print(\"----------------------------------------------\")\n",
    "print(\"tile id  | AOI/Tile overlap | Tile/AOI overlap\")\n",
    "print(\"----------------------------------------------\")\n",
    "for i, pr in enumerate(list(tiles.keys())):\n",
    "    meta = api.get_product_odata(pr)\n",
    "    tile = shapely.wkt.loads(meta['footprint'])\n",
    "    aoi_cover_ratio = AOI.intersection(tile).area/AOI.area\n",
    "    tile_cover_ratio = AOI.intersection(tile).area/tile.area\n",
    "    print(\"%s   |      %.4f        |      %.4f\"  \n",
    "          % (tileids[i], aoi_cover_ratio, tile_cover_ratio))"
   ]
  },
  {
   "cell_type": "code",
   "execution_count": null,
   "id": "bridal-active",
   "metadata": {},
   "outputs": [],
   "source": []
  }
 ],
 "metadata": {
  "kernelspec": {
   "display_name": "Python 3",
   "language": "python",
   "name": "python3"
  },
  "language_info": {
   "codemirror_mode": {
    "name": "ipython",
    "version": 3
   },
   "file_extension": ".py",
   "mimetype": "text/x-python",
   "name": "python",
   "nbconvert_exporter": "python",
   "pygments_lexer": "ipython3",
   "version": "3.8.2"
  }
 },
 "nbformat": 4,
 "nbformat_minor": 5
}
