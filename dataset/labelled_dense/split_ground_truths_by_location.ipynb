{
 "cells": [
  {
   "cell_type": "code",
   "execution_count": 1,
   "id": "helpful-notion",
   "metadata": {},
   "outputs": [],
   "source": [
    "import numpy as np\n",
    "import pandas as pd\n",
    "from sentinelsat import SentinelAPI, read_geojson, geojson_to_wkt\n",
    "import os\n",
    "from collections import OrderedDict\n",
    "import matplotlib.pyplot as plt\n",
    "%matplotlib inline\n",
    "if __name__ == \"__main__\" and __package__ is None:\n",
    "    from sys import path\n",
    "    from os.path import dirname as dir\n",
    "\n",
    "    path.append(dir(path[0]))\n",
    "    __package__ = \"examples\"\n",
    "from utils.date_utils import get_doy"
   ]
  },
  {
   "cell_type": "markdown",
   "id": "blank-eugene",
   "metadata": {},
   "source": [
    "### User input"
   ]
  },
  {
   "cell_type": "code",
   "execution_count": 12,
   "id": "organic-contribution",
   "metadata": {},
   "outputs": [],
   "source": [
    "savedir = '/media/michaeltrs/0a8a5a48-ede5-47d0-8eff-10d11350bf98/Satellite_Data/Sentinel2/ARISE/Tanzania/S2-products'\n",
    "year = '2022'\n",
    "date_range = ('0101', '0428')  # (mindate: 'mmdd', maxdate: 'mmdd')\n",
    "cloudcoverpercentage = (0, 70)   # (min %, max %)\n",
    "minprodsize = 400                # Mb\n",
    "numproducts = 60\n",
    "tile = '37MDN'\n",
    "platformname = 'Sentinel-2'\n",
    "processinglevel = 'Level-1C'"
   ]
  },
  {
   "cell_type": "markdown",
   "id": "creative-destiny",
   "metadata": {},
   "source": [
    "### Read user credentials"
   ]
  },
  {
   "cell_type": "code",
   "execution_count": 13,
   "id": "following-stanford",
   "metadata": {},
   "outputs": [],
   "source": [
    "cred = pd.read_csv(\"pw.csv\", header=None)"
   ]
  },
  {
   "cell_type": "markdown",
   "id": "altered-antique",
   "metadata": {},
   "source": [
    "### Query for Sentinel products"
   ]
  },
  {
   "cell_type": "code",
   "execution_count": 14,
   "id": "becoming-fifty",
   "metadata": {},
   "outputs": [
    {
     "name": "stdout",
     "output_type": "stream",
     "text": [
      "querying...\n",
      "found 10 products\n"
     ]
    }
   ],
   "source": [
    "api = SentinelAPI(cred[0][0], cred[0][1], 'https://scihub.copernicus.eu/dhus')\n",
    "print(\"querying...\")\n",
    "products = api.query(tileid=tile,\n",
    "                     platformname=platformname,\n",
    "                     cloudcoverpercentage=cloudcoverpercentage,\n",
    "                     date=(\"%s%s\" % (year, date_range[0]), \"%s%s\" % (year, date_range[1])),\n",
    "                     processinglevel=processinglevel)\n",
    "df = api.to_dataframe(products)\n",
    "print(\"found %d products\" % len(products))"
   ]
  },
  {
   "cell_type": "markdown",
   "id": "pressing-commerce",
   "metadata": {},
   "source": [
    "### Remove very small size products"
   ]
  },
  {
   "cell_type": "code",
   "execution_count": 15,
   "id": "nasty-adjustment",
   "metadata": {
    "pycharm": {
     "name": "#%%\n"
    }
   },
   "outputs": [
    {
     "name": "stdout",
     "output_type": "stream",
     "text": [
      "keeping 10 products with larger than 400Mb\n",
      "number of products found (10) is less than initially selected (60)\n",
      "changing number of selected products to 10\n",
      "you may want to change selection criteria in 'User input' cell to find more products\n"
     ]
    }
   ],
   "source": [
    "sizes = np.array([float(s.split(\" \")[0]) for s in df['size'].values])\n",
    "products2keep = OrderedDict()\n",
    "for i, prodkey in enumerate(list(products.keys())):\n",
    "    if sizes[i] >= minprodsize:\n",
    "        # print(sizes[i])\n",
    "        products2keep[prodkey] = products[prodkey]\n",
    "df2keep = api.to_dataframe(products2keep).reset_index()\n",
    "print(\"keeping %d products with larger than %dMb\" % (len(products2keep), minprodsize))\n",
    "\n",
    "if len(products2keep) < numproducts:\n",
    "    print(\"number of products found (%d) is less than initially selected (%d)\" % (len(products2keep), numproducts))\n",
    "    print(\"changing number of selected products to %d\" % (len(products2keep)))\n",
    "    print(\"you may want to change selection criteria in 'User input' cell to find more products\")\n",
    "    numproducts = len(products2keep)"
   ]
  },
  {
   "cell_type": "markdown",
   "id": "atomic-joseph",
   "metadata": {
    "pycharm": {
     "name": "#%% md\n"
    }
   },
   "source": [
    "### Spread products evenly in time and visualize"
   ]
  },
  {
   "cell_type": "code",
   "execution_count": 16,
   "id": "turkish-fetish",
   "metadata": {
    "pycharm": {
     "name": "#%%\n"
    }
   },
   "outputs": [],
   "source": [
    "ccfactor = 0.0    # cloud cover factor when selecting products\n",
    "def distance(doys, target_doy, ccfactor=0):\n",
    "    \"\"\"\n",
    "    distance function for selecting products depending on \n",
    "    proximity to desired date and cloud cover\n",
    "    \"\"\"\n",
    "    dist = np.abs(doys['doy'] - target_doy) + ccfactor * doys['cloudcoverpercentage']\n",
    "    return dist"
   ]
  },
  {
   "cell_type": "code",
   "execution_count": 17,
   "id": "delayed-benefit",
   "metadata": {
    "scrolled": true
   },
   "outputs": [
    {
     "name": "stdout",
     "output_type": "stream",
     "text": [
      "   doy       size cloudcoverpercentage\n",
      "0    5  820.48 MB              55.1488\n",
      "1   40  794.63 MB              9.41109\n",
      "2   60  803.36 MB              33.9301\n",
      "3   65  768.85 MB              47.6807\n",
      "4   70  795.89 MB               36.565\n",
      "5   75  784.40 MB              66.0153\n",
      "6   85  812.33 MB              27.2806\n",
      "7   95  819.05 MB              27.7287\n",
      "8  100  806.83 MB              38.3053\n",
      "9  115  782.31 MB              65.9704\n"
     ]
    },
    {
     "data": {
      "image/png": "[encoded data removed]",
      "text/plain": [
       "<Figure size 432x288 with 1 Axes>"
      ]
     },
     "metadata": {
      "needs_background": "light"
     },
     "output_type": "display_data"
    }
   ],
   "source": [
    "start_doy = get_doy(\"%s%s\" % (year, date_range[0]))\n",
    "end_doy = get_doy(\"%s%s\" % (year, date_range[1]))\n",
    "uniform_doy_list = np.linspace(start_doy, end_doy, numproducts).tolist()\n",
    "\n",
    "doys = df2keep.copy()  # [['datatakesensingstart', 'cloudcoverpercentage', 'size']]\n",
    "doys['doy'] = pd.DataFrame(\n",
    "    doys['datatakesensingstart'].apply(lambda s: get_doy(str(s).split(' ')[0].replace('-', ''))))\n",
    "\n",
    "idx_list = []\n",
    "for doy_ in uniform_doy_list:\n",
    "    # print(doy_)\n",
    "    doys['distance'] = distance(doys, doy_, ccfactor)\n",
    "    idx = doys['distance'].argmin()\n",
    "    idx_list.append(pd.DataFrame(doys.iloc[idx, :]).T)\n",
    "    doys = doys.drop(index=idx).reset_index(drop=True)\n",
    "prod2keep = pd.concat(idx_list).reset_index(drop=True)  # df2keep.iloc[idx_list].reset_index(drop=True)\n",
    "prod2keep['doy'] = pd.DataFrame(\n",
    "    prod2keep['datatakesensingstart'].apply(lambda s: get_doy(str(s).split(' ')[0].replace('-', ''))))\n",
    "\n",
    "# visualize\n",
    "plt.scatter(prod2keep['doy'].values, np.zeros(prod2keep.shape[0]), s=20, c='b')\n",
    "plt.scatter(uniform_doy_list, np.zeros(len(uniform_doy_list)), s=20, c='r')\n",
    "plt.vlines(prod2keep['doy'].values, 0, 1, color='b', label='selected')\n",
    "plt.vlines(uniform_doy_list, 0, -1, color='r', label='uniform')\n",
    "plt.hlines(0, 1, 365, color='k', alpha=0.3)\n",
    "plt.ylim(-1, 1)\n",
    "plt.xlim(0, 365)\n",
    "plt.yticks([], [])\n",
    "plt.xlabel('day of year')\n",
    "plt.legend(bbox_to_anchor=(1.3, 1))\n",
    "\n",
    "# examine\n",
    "print(prod2keep[['doy', 'size', 'cloudcoverpercentage']])  # .columns)"
   ]
  },
  {
   "cell_type": "markdown",
   "id": "auburn-nomination",
   "metadata": {
    "pycharm": {
     "name": "#%% md\n"
    }
   },
   "source": [
    "### Save selected products to disk"
   ]
  },
  {
   "cell_type": "code",
   "execution_count": 18,
   "id": "constitutional-newman",
   "metadata": {
    "pycharm": {
     "name": "#%%\n"
    }
   },
   "outputs": [
    {
     "name": "stdout",
     "output_type": "stream",
     "text": [
      "saving products info to /media/michaeltrs/0a8a5a48-ede5-47d0-8eff-10d11350bf98/Satellite_Data/Sentinel2/ARISE/Tanzania/S2-products/Sentinel-2_Level-1C_tile37MDN_minsize400Mb_10dates_year2022_from0101to0428_mincc0maxcc70.csv\n"
     ]
    }
   ],
   "source": [
    "savename = '%s/%s_%s_tile%s_minsize%dMb_%ddates_year%s_from%sto%s_mincc%dmaxcc%d.csv' % \\\n",
    "           (savedir, platformname, processinglevel, tile, minprodsize, numproducts, year, \n",
    "            date_range[0], date_range[1], cloudcoverpercentage[0], cloudcoverpercentage[1])\n",
    "\n",
    "if not os.path.exists(os.path.dirname(savename)):\n",
    "    print(\"making new directory %s\" % os.path.dirname(savename))\n",
    "    os.makedirs(os.path.dirname(savename))\n",
    "\n",
    "print(\"saving products info to %s\" % savename)\n",
    "prod2keep.to_csv(savename, index=False)"
   ]
  },
  {
   "cell_type": "code",
   "execution_count": null,
   "id": "amino-blade",
   "metadata": {},
   "outputs": [],
   "source": []
  }
 ],
 "metadata": {
  "kernelspec": {
   "display_name": "Python 3",
   "language": "python",
   "name": "python3"
  },
  "language_info": {
   "codemirror_mode": {
    "name": "ipython",
    "version": 3
   },
   "file_extension": ".py",
   "mimetype": "text/x-python",
   "name": "python",
   "nbconvert_exporter": "python",
   "pygments_lexer": "ipython3",
   "version": "3.8.2"
  }
 },
 "nbformat": 4,
 "nbformat_minor": 5
}
